{
  "cells": [
    {
      "cell_type": "markdown",
      "metadata": {
        "id": "xibdtNteGm_q"
      },
      "source": [
        "# **CSE330 Coding Exam Spring 2025** (Total Marks : 15)"
      ]
    },
    {
      "cell_type": "code",
      "execution_count": 1,
      "metadata": {
        "id": "Tc5Gf_ulPS92"
      },
      "outputs": [],
      "source": [
        "import matplotlib.pyplot as plt\n",
        "import numpy as np\n",
        "from itertools import combinations\n",
        "from numpy.polynomial import Polynomial\n",
        "np.set_printoptions(precision=6, formatter={'all': lambda x: f'{x:f}'})"
      ]
    },
    {
      "cell_type": "markdown",
      "metadata": {
        "id": "F2XqvIMHG3Rz"
      },
      "source": [
        "## Question 01 **[4 + 1 = 5 Marks]**\n",
        "The **central difference approximation** of the first derivative of a function is given by:\n",
        "\n",
        "$$ f'(x) \\approx \\frac{f(x+h)-f(x-h)}{2h} $$\n",
        "\n",
        "Using the same central difference method, we can approximate the second derivative of a function as:\n",
        "\n",
        "$$ f''(x) \\approx \\frac{f'(x+h)-f'(x-h)}{2h} $$\n",
        "\n",
        "Now, using $h=0.01$, approximates the **second derivative** of $f(x) = x\\cdot e^x$ at $x=2$ by following those steps:\n",
        "\n",
        "a) Compute the required first derivatives using the central difference method, which are needed to find the second derivative at $x=2$. Print the results.\n",
        "\n",
        "b) Apply the formula for the second derivative at $x=2$ by using the results of *part a*. Print the results."
      ]
    },
    {
      "cell_type": "code",
      "execution_count": 2,
      "metadata": {
        "colab": {
          "base_uri": "https://localhost:8080/"
        },
        "id": "pPR8PwuZG8oJ",
        "outputId": "74014fa3-573d-4a8c-8c5c-c956e0dcafa2"
      },
      "outputs": [
        {
          "name": "stdout",
          "output_type": "stream",
          "text": [
            "f'(x+h) = 22.46520840678885\n",
            "f'(x-h) = 21.874054362124884\n"
          ]
        }
      ],
      "source": [
        "#a\n",
        "def central_diff(f,h,x):\n",
        "  return (f(x+h)-f(x-h))/(2*h)\n",
        "\n",
        "f = lambda x: x*(np.e**x)\n",
        "h = 0.01\n",
        "x = 2\n",
        "\n",
        "f_x_1 = central_diff(f,h,x+h)\n",
        "f_x_2 = central_diff(f,h,x-h)\n",
        "\n",
        "print(f\"f'(x+h) = {f_x_1}\\nf'(x-h) = {f_x_2}\")"
      ]
    },
    {
      "cell_type": "code",
      "execution_count": 3,
      "metadata": {
        "colab": {
          "base_uri": "https://localhost:8080/"
        },
        "id": "NaWB-xlbPW4N",
        "outputId": "dae70957-c8f2-43b1-ea5a-330f8e048dcf"
      },
      "outputs": [
        {
          "name": "stdout",
          "output_type": "stream",
          "text": [
            "f''(x) = 29.557702233198313\n"
          ]
        }
      ],
      "source": [
        "#b\n",
        "f_2 = (f_x_1 - f_x_2)/(2*h)\n",
        "print(f\"f''(x) = {f_2}\")"
      ]
    },
    {
      "cell_type": "markdown",
      "metadata": {
        "id": "O2qiY8wjHGLo"
      },
      "source": [
        "## Question 02 **[3 + 1 + 1 = 5 Marks]**\n",
        "\n",
        "\n",
        "The general form of $n$ degree Lagrange polynomial is given by\n",
        "\n",
        "$$p_n(x) = \\sum_{k=0}^n f(x_k)̧\\cdot l_k(x) = \\sum_{k=0}^n y_k\\cdot l_k(x)$$\n",
        "\n",
        "where\n",
        "\n",
        "$$l_k(x) = \\prod_{j=0, j\\neq k}^n \\frac{x-x_j}{x_k-x_j}$$\n",
        "\n",
        "Here, you are given $3$ data points:\n",
        "\n",
        "\\begin{array}{|c|c|c|}\n",
        "\\hline\n",
        "i & x_i & y_i = f(x_i) \\\\\n",
        "\\hline\n",
        "0 & 1 & 3 \\\\\n",
        "1 & 2 & 4 \\\\\n",
        "2 & 4 & 6 \\\\\n",
        "\\hline\n",
        "\\end{array}\n",
        "\n",
        "**Tasks:**\n",
        "\n",
        "a) Using the `Polynomial` class from the NumPy library, find the polynomials $l_0(x), l_1(x)$ and $l_2(x)$ and print them.\n",
        "\n",
        "b) Find the interpolated polynomial $p_n(x)$ using $l_0(x), l_1(x)$ and $l_2(x)$ and print it.\n",
        "\n",
        "c) Evaluate the polynomial $p_n(x)$ at the point $x=3$ and print the result."
      ]
    },
    {
      "cell_type": "code",
      "execution_count": 4,
      "metadata": {
        "colab": {
          "base_uri": "https://localhost:8080/"
        },
        "id": "santp5CbIGPE",
        "outputId": "24142aa9-d45f-4289-b472-366ca5592944"
      },
      "outputs": [
        {
          "name": "stdout",
          "output_type": "stream",
          "text": [
            "l0(x): 2.666667 - 2.0 x + 0.333333 x**2\n",
            "l1(x): -2.0 + 2.5 x - 0.5 x**2\n",
            "l2(x): 0.333333 - 0.5 x + 0.166667 x**2\n"
          ]
        }
      ],
      "source": [
        "#a\n",
        "def l(k, x):\n",
        "    n = len(x)\n",
        "    assert (k < len(x))\n",
        "\n",
        "    x_k = x[k]\n",
        "    x_copy = np.delete(x, k)\n",
        "\n",
        "    denominator = np.prod(x_copy - x_k)\n",
        "\n",
        "    coeff = []\n",
        "\n",
        "    for i in range(n):\n",
        "        coeff.append(sum([np.prod(x) for x in combinations(x_copy, i)]) * (-1)**(i) / denominator)\n",
        "\n",
        "    coeff.reverse()\n",
        "\n",
        "    return Polynomial(coeff)\n",
        "\n",
        "x_data = [1,2,4]\n",
        "l0 = l(0,x_data)\n",
        "l1 = l(1,x_data)\n",
        "l2 = l(2,x_data)\n",
        "\n",
        "print(\"l0(x):\",l0)\n",
        "print(\"l1(x):\",l1)\n",
        "print(\"l2(x):\",l2)"
      ]
    },
    {
      "cell_type": "code",
      "execution_count": 5,
      "metadata": {
        "colab": {
          "base_uri": "https://localhost:8080/"
        },
        "id": "LBuu2IJqa0LW",
        "outputId": "44c62d77-75dd-4ca3-c5a3-c8dcb0bab775"
      },
      "outputs": [
        {
          "name": "stdout",
          "output_type": "stream",
          "text": [
            "p(x): 2.0 + 1.0 x\n"
          ]
        }
      ],
      "source": [
        "#b\n",
        "y_data = [3,4,6]\n",
        "p = (y_data[0]*l0)+(y_data[1]*l1)+(y_data[2]*l2)\n",
        "print(\"p(x):\",p)"
      ]
    },
    {
      "cell_type": "code",
      "execution_count": 6,
      "metadata": {
        "colab": {
          "base_uri": "https://localhost:8080/"
        },
        "id": "Pu4JMIovdE3m",
        "outputId": "8ef99435-5c2e-442e-ef32-67cd6f774e78"
      },
      "outputs": [
        {
          "name": "stdout",
          "output_type": "stream",
          "text": [
            "pn(x) at the point  x=3: 5.0\n"
          ]
        }
      ],
      "source": [
        "#c\n",
        "x = 3\n",
        "res = p(x)\n",
        "print(\"pn(x) at the point  x=3:\",res)"
      ]
    },
    {
      "cell_type": "markdown",
      "metadata": {
        "id": "6P8cfecbTzpH"
      },
      "source": [
        "3 poly 1 poly 1num 1 matrix 1 matrix 1 matrix\n"
      ]
    },
    {
      "cell_type": "markdown",
      "metadata": {
        "id": "iyXKiqyLKIYx"
      },
      "source": [
        "## Question 03 **[3 + 1 + 1 = 5 Marks]**\n",
        "\n",
        "In polynomial interpolation using the **Vandermonde matrix method**, the system of equations for the polynomial can be written as:\n",
        "$$Xa = y$$\n",
        "Where\n",
        "\\begin{equation}\n",
        "X = \\begin{bmatrix}\n",
        "x_0^0 & x_0^1 & x_0^2  & \\cdots & x_0^n\\\\\n",
        "x_1^0 & x_1^1 & x_1^2 & \\cdots &  x_1^n\\\\\n",
        "\\vdots & \\vdots & \\vdots & \\ddots & \\vdots\\\\\n",
        "x_n^0 & x_{n}^1 & x_n^2 & \\cdots & x_n^n\\\\\n",
        "\\end{bmatrix}\n",
        "\\end{equation}\n",
        "\n",
        "and\n",
        "\n",
        "\\begin{equation}\n",
        "a = \\begin{bmatrix}\n",
        "a_0\\\\\n",
        "a_1\\\\\n",
        "\\vdots\\\\\n",
        "a_n\\\\\n",
        "\\end{bmatrix} \\text{,  } y = \\begin{bmatrix}\n",
        "y_0\\\\\n",
        "y_1\\\\\n",
        "\\vdots\\\\\n",
        "y_n\\\\\n",
        "\\end{bmatrix}\n",
        "\\end{equation}\n",
        "\n",
        "Now suppose the Vandermonde matrix $X$ is modified to:\n",
        "\n",
        "\\begin{equation}\n",
        "X_0 = \\begin{bmatrix}\n",
        "x_0^n & x_0^{n-1} & x_0^{n-2}  & \\cdots & x_0^0\\\\\n",
        "x_1^n & x_1^{n-1} & x_1^{n-2} & \\cdots &  x_1^0\\\\\n",
        "\\vdots & \\vdots & \\vdots & \\ddots & \\vdots\\\\\n",
        "x_n^n & x_{n}^{n-1} & x_n^{n-2} & \\cdots & x_n^0\\\\\n",
        "\\end{bmatrix}\n",
        "\\end{equation}\n",
        "\n",
        "**Tasks:**\n",
        "\n",
        "a) Given the data points $(2, 5), (-3, 6), (-5, 1), (6, 12)$, construct and the modified Vandermonde matrix $X_0$ using a NumPy array and print it.\n",
        "\n",
        "b)  Considering the change in the Vandermonde matrix from $X$ to $X_0$, the coeficient vector $a$ must also be updated to match the reversed powers of $x$. **Construct and print** the updated vectors $a$ using the same format.\n",
        "\n",
        "c) Using the previously constructed matrix $X_0$, find the value of the modified coefficient vector $a_0$ by solving the system $X_0 a_0 = y$, where $a_0$ is the modified coefficient vector. Print the resulting NumPy array."
      ]
    },
    {
      "cell_type": "code",
      "execution_count": 7,
      "metadata": {
        "colab": {
          "base_uri": "https://localhost:8080/"
        },
        "id": "DQd5HHd4KYJl",
        "outputId": "4a81cc18-5262-4eda-acce-683020e953c3"
      },
      "outputs": [
        {
          "name": "stdout",
          "output_type": "stream",
          "text": [
            "Xo:\n",
            " [[8.000000 4.000000 2.000000 1.000000]\n",
            " [-27.000000 9.000000 -3.000000 1.000000]\n",
            " [-125.000000 25.000000 -5.000000 1.000000]\n",
            " [216.000000 36.000000 6.000000 1.000000]]\n"
          ]
        }
      ],
      "source": [
        "#a\n",
        "\n",
        "def modified_vander(data_x, data_y):\n",
        "  nodes = len(data_x)\n",
        "  X = np.zeros((nodes,nodes))\n",
        "  for row in range(nodes): # Making X matrix x^0, x^1, x^2 ..\n",
        "    for col in range(nodes):\n",
        "      X[row][col] = data_x[row]**(nodes-col-1)\n",
        "\n",
        "  return X\n",
        "\n",
        "data_x = np.array([2,-3,-5,6])\n",
        "data_y = np.array([5,6,1,12])\n",
        "\n",
        "Xo = modified_vander(data_x,data_y)\n",
        "print(\"Xo:\\n\",Xo)"
      ]
    },
    {
      "cell_type": "code",
      "execution_count": 8,
      "metadata": {
        "colab": {
          "base_uri": "https://localhost:8080/"
        },
        "id": "p4Sy4VNlWE52",
        "outputId": "d91e3261-1aff-41dc-e46a-256d7ef0059c"
      },
      "outputs": [
        {
          "name": "stdout",
          "output_type": "stream",
          "text": [
            "a: ['a^n', 'a^n-1', 'a^n-2', '...', 'a^0']\n"
          ]
        }
      ],
      "source": [
        "#b\n",
        "a = [\"a^n\",\"a^n-1\",\"a^n-2\",\"...\",\"a^0\"]\n",
        "print(\"a:\",a)"
      ]
    },
    {
      "cell_type": "code",
      "execution_count": 9,
      "metadata": {
        "colab": {
          "base_uri": "https://localhost:8080/"
        },
        "id": "2V11fBcLVMQP",
        "outputId": "67ea2546-be03-4881-e906-ab302fd38d63"
      },
      "outputs": [
        {
          "name": "stdout",
          "output_type": "stream",
          "text": [
            "ao:\n",
            " [0.054762 -0.057143 -0.640476 6.071429]\n"
          ]
        }
      ],
      "source": [
        "#c\n",
        "X_inv = np.linalg.inv(Xo)\n",
        "ao = np.dot(X_inv,data_y)\n",
        "print(\"ao:\\n\",ao)"
      ]
    }
  ],
  "metadata": {
    "colab": {
      "provenance": []
    },
    "kernelspec": {
      "display_name": "Python 3",
      "name": "python3"
    },
    "language_info": {
      "codemirror_mode": {
        "name": "ipython",
        "version": 3
      },
      "file_extension": ".py",
      "mimetype": "text/x-python",
      "name": "python",
      "nbconvert_exporter": "python",
      "pygments_lexer": "ipython3",
      "version": "3.13.2"
    }
  },
  "nbformat": 4,
  "nbformat_minor": 0
}
