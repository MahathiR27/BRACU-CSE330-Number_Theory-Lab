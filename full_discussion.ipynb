{
 "cells": [
  {
   "cell_type": "code",
   "execution_count": 40,
   "id": "b9c7e34d",
   "metadata": {},
   "outputs": [],
   "source": [
    "import matplotlib.pyplot as plt\n",
    "import numpy as np\n",
    "from numpy.polynomial import Polynomial\n",
    "np.set_printoptions(precision=6, formatter={'all': lambda x: f'{x:f}'})"
   ]
  },
  {
   "cell_type": "markdown",
   "id": "94468f5d",
   "metadata": {},
   "source": [
    "# **Polynomial**\n",
    "\n",
    "$$ y = 1 + 2x^2 + 5x^4 $$\n",
    "and get the value of $y$ using $x=6$ \n",
    "Manual Method"
   ]
  },
  {
   "cell_type": "code",
   "execution_count": 41,
   "id": "709d6789",
   "metadata": {},
   "outputs": [
    {
     "name": "stdout",
     "output_type": "stream",
     "text": [
      "6553.0\n"
     ]
    }
   ],
   "source": [
    "coef = [1,0,2,0,5]\n",
    "degree = len(coef)-1\n",
    "\n",
    "x = 6.0\n",
    "\n",
    "def sum_all(x,coef):\n",
    "  sum, pow = 0,0\n",
    "  for i in coef:\n",
    "    sum+=(i)*(x**pow)\n",
    "    pow+=1\n",
    "  return sum\n",
    "p_x = sum_all(x,coef)\n",
    "print(p_x)"
   ]
  },
  {
   "cell_type": "markdown",
   "id": "db28461a",
   "metadata": {},
   "source": [
    "Just Polynomial import diye $P = Polynomial([a,b,c,d])$"
   ]
  },
  {
   "cell_type": "code",
   "execution_count": 42,
   "id": "1c26f769",
   "metadata": {},
   "outputs": [
    {
     "name": "stdout",
     "output_type": "stream",
     "text": [
      "[1.000000 2.000000 3.000000 4.000000 5.000000] [8.000000 89.000000 424.000000 1313.000000 3176.000000]\n"
     ]
    }
   ],
   "source": [
    "coeff = np.array([1.0, 0.0, 2.0, 0.0, 5.0])\n",
    "x_arr = np.array([1, 2, 3, 4, 5])\n",
    "P = Polynomial(coeff)\n",
    "y_arr = P(x_arr)\n",
    "print(x_arr,y_arr)"
   ]
  },
  {
   "cell_type": "markdown",
   "id": "a4f4e680",
   "metadata": {},
   "source": [
    "# **Vandermod**\n",
    "Extract the $x$ and $y$ in matrix and get the values of the $a$ and make a polynomial using the values of $a$\n",
    "$$a=YX^{-1}$$\n",
    "where $\\mathbf{X} = $\n",
    "\n",
    "\\begin{bmatrix}\n",
    "x^0 & x^1 & x^2 & \\cdots & x^n\\\\\n",
    "x^0 & x^1 & x^2 & \\cdots & x^n\\\\\n",
    "\\vdots & \\vdots & \\vdots & \\ddots & \\vdots\\\\\n",
    "x^0 & x^1 & x^2 & \\cdots & x^n\\\\\n",
    "\\end{bmatrix}\n",
    "\n",
    "Inverse matrix: ``X_inv = np.linalg.pinv(x)``"
   ]
  },
  {
   "cell_type": "code",
   "execution_count": 43,
   "id": "fcca5bad",
   "metadata": {},
   "outputs": [],
   "source": [
    "def vandermod_ploy(data_x, data_y):\n",
    "  nodes = len(data_x)\n",
    "  X = np.zeros((nodes,nodes))\n",
    "  for row in range(nodes): # Making X matrix x^0, x^1, x^2 ..\n",
    "    for col in range(nodes):\n",
    "      X[row][col] = data_x[row]**col\n",
    "\n",
    "  # Inverse X Matrix-------------------------------\n",
    "  X_inv = np.linalg.inv(X)\n",
    "  # -----------------------------------------------\n",
    "  a = np.dot(X_inv,data_y) # y_data*X_inv doesn't work\n",
    "\n",
    "  P = Polynomial(a)\n",
    "  \n",
    "  return P"
   ]
  },
  {
   "cell_type": "markdown",
   "id": "b9c28ed9",
   "metadata": {},
   "source": [
    "# **Graph**\n",
    "Steps:\n",
    "  1. data_x and data_y for the dots\n",
    "  2. Continuous x_arr from lowest to highest for the line ``np.linspace(low,high,count)``\n",
    "  3. Put the x_arr value in to the polynomial created to get y_arr\n",
    "  4. x_arr, y_arr for the line"
   ]
  },
  {
   "cell_type": "code",
   "execution_count": 44,
   "id": "eda5f70c",
   "metadata": {},
   "outputs": [
    {
     "name": "stdout",
     "output_type": "stream",
     "text": [
      "1.0 - 5.075 x + 5.520833 x**2 + 4.854167 x**3 - 1.020833 x**4 -\n",
      "0.279167 x**5\n"
     ]
    },
    {
     "data": {
      "image/png": "[encoded data removed]",
      "text/plain": [
       "<Figure size 640x480 with 1 Axes>"
      ]
     },
     "metadata": {},
     "output_type": "display_data"
    }
   ],
   "source": [
    "data_x = np.array([-3., -2., -1., 0., 1., 3.])\n",
    "data_y = np.array([-80., -13., 6., 1., 5., 16.])\n",
    "p = vandermod_ploy(data_x, data_y)\n",
    "print(p)\n",
    "\n",
    "x_arr = np.linspace(-3,3,100)\n",
    "y_arr = p(x_arr)\n",
    "\n",
    "plt.plot(x_arr,y_arr,'r', label=\"Dap\")\n",
    "plt.plot(data_x, data_y,'bo') # b = Blue; o = golla; * dile star hobe\n",
    "plt.legend()\n",
    "plt.show()"
   ]
  },
  {
   "cell_type": "markdown",
   "id": "db7485cd",
   "metadata": {},
   "source": [
    "# **Lagrange**\n",
    "Steps:\n",
    "  1. Take data_x and data_y as input.\n",
    "\n",
    "  2. ``__call__()`` diye $p_n(x) = \\sum_{k=0}^{n} f(x_k)l_k(x)$ main calculation ta korbo. Which will take x_arr and return y_arr(interpolated value)\n",
    "\n",
    "  3. ``l()`` diye $l_k(x)$ er values ber korbo"
   ]
  },
  {
   "cell_type": "code",
   "execution_count": 45,
   "id": "cad20539",
   "metadata": {},
   "outputs": [],
   "source": [
    "class Lagrange_Poly():\n",
    "  def __init__(self,data_x,data_y):\n",
    "    assert len(data_x) == len(data_y), \"Length of data_x and data_y must be equal\"\n",
    "    self.data_x = data_x\n",
    "    self.data_y = data_y\n",
    "    self.degree = len(data_x)-1\n",
    "  \n",
    "  def __repr__(self):\n",
    "    res = f\"Lagrange Polynomial of degree {self.degree}:\\n\"\n",
    "    res += \"p(x)= \"\n",
    "    for i in range(len(data_y)):\n",
    "      if i>0:\n",
    "        res+= f\"+ {self.data_y[i]}*l_{i}(x)\"\n",
    "      elif i<0:\n",
    "        res+= f\"- {self.data_y[i]}*l_{i}(x)\"\n",
    "    return res\n",
    "  \n",
    "  def l(self,k,x):\n",
    "    res = 1.0\n",
    "\n",
    "    for i in range(len(data_x)):\n",
    "      a = self.data_x[k]\n",
    "      if i != k:\n",
    "        b = self.data_x[i]\n",
    "        res*=(x-b)/(a-b)\n",
    "    return res\n",
    "  \n",
    "  def __call__(self, x_arr):\n",
    "    p_arr = np.zeros(x_arr.shape)\n",
    "\n",
    "    for i in range(len(x_arr)):\n",
    "      x = x_arr[i]\n",
    "      for k in range(len(data_x)):\n",
    "        p_arr[i] += self.data_y[k]*self.l(k,x)\n",
    "\n",
    "    return p_arr"
   ]
  },
  {
   "cell_type": "code",
   "execution_count": 46,
   "id": "41fdfe8e",
   "metadata": {},
   "outputs": [
    {
     "name": "stdout",
     "output_type": "stream",
     "text": [
      "Lagrange Polynomial of degree 6:\n",
      "p(x)= + 1.193*l_1(x)+ 6.156*l_2(x)+ 2.0*l_3(x)+ 1.803*l_4(x)+ 2.558*l_5(x)+ 0.0*l_6(x)\n"
     ]
    },
    {
     "data": {
      "image/png": "[encoded data removed]",
      "text/plain": [
       "<Figure size 640x480 with 1 Axes>"
      ]
     },
     "metadata": {},
     "output_type": "display_data"
    }
   ],
   "source": [
    "data_x = np.array([-3.5, -2.231, -1.152, -0.5, 0.198, 0.785, 1.6])\n",
    "data_y = np.array([4.0, 1.193, 6.156, 2.0, 1.803, 2.558, 0.0])\n",
    "\n",
    "p = Lagrange_Poly(data_x, data_y)\n",
    "print(p) \n",
    "\n",
    "x_arr = np.linspace(-3.5, 1.6, 100)\n",
    "p_x_arr = p(x_arr)\n",
    "\n",
    "plt.plot(x_arr, p_x_arr)\n",
    "plt.plot(data_x, data_y, 'ro')\n",
    "plt.legend(['interpolated', 'node points'], loc = 'lower right')\n",
    "plt.xlabel('x')\n",
    "plt.ylabel('y')\n",
    "plt.title('Lagrange Polynomial')\n",
    "plt.show()"
   ]
  }
 ],
 "metadata": {
  "kernelspec": {
   "display_name": "Python 3",
   "language": "python",
   "name": "python3"
  },
  "language_info": {
   "codemirror_mode": {
    "name": "ipython",
    "version": 3
   },
   "file_extension": ".py",
   "mimetype": "text/x-python",
   "name": "python",
   "nbconvert_exporter": "python",
   "pygments_lexer": "ipython3",
   "version": "3.13.2"
  }
 },
 "nbformat": 4,
 "nbformat_minor": 5
}
