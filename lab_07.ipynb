{
  "cells": [
    {
      "cell_type": "markdown",
      "metadata": {
        "deletable": false,
        "editable": false,
        "id": "wwuJllZf2gbd"
      },
      "source": [
        "Instructions: Make a copy of this notebook and rename into the format `ID.ipynb` (example: `12345678.ipynb`). Read all the comments and write appropriate code after any place that says `# YOUR CODE HERE`. When the daily evaluation tasks are revealed, append their solutions at the end of this notebook."
      ]
    },
    {
      "cell_type": "markdown",
      "metadata": {
        "deletable": false,
        "editable": false,
        "id": "cbYDwRgN3vcq"
      },
      "source": [
        "# Part 1: Solving a linear system using inverse matrix - 2 Marks\n",
        "\n",
        "We have a linear system\n",
        "\n",
        "\\begin{align}\n",
        "&a_{11} x_1 + a_{12} x_2 +  \\cdots  + a_{1n} x_n = b_1\\\\\n",
        "&a_{21} x_1 + a_{22} x_2 +  \\cdots + a_{2n} x_n = b_2\\\\\n",
        "&\\cdots\\\\\n",
        "&a_{n1} x_1 + a_{n2} x_2 +  \\cdots + a_{nn} x_n = b_n\\\\\n",
        "\\end{align}\n",
        "\n",
        "It is convenient to express this system in the\n",
        "matrix form\n",
        "\n",
        "\\begin{align}\n",
        "Ax = b\n",
        "\\end{align}\n",
        "\n",
        "where $A$ is an $n \\times n$ square matrix with elements $a_{ij}$, and $x$, $b$ are $n \\times 1$ vectors.\n",
        "\n",
        "We have to keep in mind that this system will have a unique solution iff $A$ is non-singular, given by $x = A^{-1}b.$"
      ]
    },
    {
      "cell_type": "code",
      "execution_count": 1,
      "metadata": {
        "deletable": false,
        "editable": false,
        "id": "aQX8PNoJ39Ak"
      },
      "outputs": [],
      "source": [
        "import numpy as np\n",
        "np.set_printoptions(precision=6, formatter={'all': lambda x: f'{x:f}'})"
      ]
    },
    {
      "cell_type": "code",
      "execution_count": 2,
      "metadata": {
        "deletable": false,
        "id": "liidjMKS-DBM"
      },
      "outputs": [],
      "source": [
        "def get_result_by_inverse_matrix(A, b):\n",
        "    # A and b are numpy arrays\n",
        "    x = np.zeros(b.shape)\n",
        "\n",
        "    # First check if the A is non-singular matrix.\n",
        "    # The determinant of a non-singular matrix will be non-zero.\n",
        "    # Return None if there is no unique solution to the linear equation.\n",
        "\n",
        "    # YOUR CODE HERE\n",
        "    inverse = None\n",
        "    if(np.linalg.det(A)==0):\n",
        "        print(\"singular matrix\")\n",
        "        return None # Return None when the matrix is singular\n",
        "    else:\n",
        "        inverse = np.linalg.inv(A)\n",
        "\n",
        "    x = np.dot(inverse, b)\n",
        "\n",
        "    # HINT:\n",
        "    # You may use functions such as linalg.det(), linalg.inv() from numpy.\n",
        "\n",
        "    return x"
      ]
    },
    {
      "cell_type": "code",
      "execution_count": 3,
      "metadata": {
        "colab": {
          "base_uri": "https://localhost:8080/"
        },
        "deletable": false,
        "editable": false,
        "id": "Ege-eIAp-CTV",
        "outputId": "776de1ad-6abf-49c3-c5b6-2ec5db4c5236"
      },
      "outputs": [
        {
          "name": "stdout",
          "output_type": "stream",
          "text": [
            "[11.000000 -2.500000 -6.000000]\n",
            "[11, -2.5, -6]\n",
            "singular matrix\n",
            "None\n",
            "None\n"
          ]
        }
      ],
      "source": [
        "# Test case for the get_result_by_inverse_matrix(A, b) function.\n",
        "\n",
        "data_A = np.array([[1, 2, 1], [1, -2, 2], [2, 12, -2]])\n",
        "data_b = np.array([0,4,4])\n",
        "\n",
        "test = get_result_by_inverse_matrix(data_A, data_b)\n",
        "result = [11, -2.5, -6]\n",
        "\n",
        "print(test)\n",
        "print(result)\n",
        "\n",
        "data_A = np.array([[1, 2, 1], [1, -2, 2], [2, 0, 3]])\n",
        "data_b = np.array([0,4,4])\n",
        "\n",
        "test = get_result_by_inverse_matrix(data_A, data_b)\n",
        "result = None\n",
        "\n",
        "print(test)\n",
        "print(result)"
      ]
    },
    {
      "cell_type": "markdown",
      "metadata": {
        "deletable": false,
        "editable": false,
        "id": "eyAJANDCC08f"
      },
      "source": [
        "# Part 2: Gaussian elimination - 2 Marks\n",
        "\n",
        "Gaussian elimination uses elementary row operations to transform the system to upper triangular form $Ux = y$.\n",
        "\n",
        "Elementary row operations include swapping rows and adding multiples of one rowto another.\n",
        "They won’t change the solution $x$, but will change the matrix $A$ and the right-hand side $b$.\n",
        "\n",
        "The upper triangular matrix, $𝑈$, is defined as\n",
        "\n",
        "\\begin{bmatrix}\n",
        "u_{11} & u_{12} & \\cdots & u_{1n}\\\\\n",
        "0 & u_{22} & \\cdots & u_{2n}\\\\\n",
        "\\vdots & \\vdots & \\ddots & \\vdots\\\\\n",
        "0 & \\cdots & 0 & u_{nn}\\\\\n",
        "\\end{bmatrix}\n"
      ]
    },
    {
      "cell_type": "markdown",
      "metadata": {
        "deletable": false,
        "editable": false,
        "id": "fZXuDaxsPhJm"
      },
      "source": [
        "**Algorithm of Gaussian elimination**\n",
        "\n",
        "Let $A^{(1)}=A$ and $b^{(1)}=b$. Then for each k from 1 to $n-1$, compute a new matrix $A^{(k+1)}$ and right-hand side $b^{(k+1)}$ by the following procedure:\n",
        "\n",
        "\n",
        "1.   Define the row multipliers\n",
        "\n",
        "\\begin{align}\n",
        "m_{ij} = \\frac{a_{ik}^{(k)}}{a_{kk}^{(k)}}, i=k+1,\\cdot \\cdot \\cdot,n.\n",
        "\\end{align}\n",
        "2.   Use these to remove the unknown $x_k$ from equations $k + 1$ to $n$, leaving\n",
        "\n",
        "\\begin{align}\n",
        "a_{ij}^{(k+1)}=a_{ij}^{(k)}-m_{ik}a_{kj}^{(k)}, b_{i}^{(k+1)}=b_{i}^{(k)}-m_{ik}b_{k}^{(k)}, i,j=k+1,\\cdot \\cdot \\cdot, n.\n",
        "\\end{align}\n",
        "\n",
        "It is helpful to combine these matrices to form an Augmented matrix (matrix $b$ is the fourth column). We will perform this row operations on the Augmented matrix. It takes care of both $A$ and $b$ matrixes at the same time.\n",
        "\n",
        "After generating the upper triangular matrix, we have to apply **backward substitution method**.\n",
        "For any $n \\times n$ upper triangular system, $Ux = b$, the solution is:\n",
        "\n",
        "\\begin{align}\n",
        "x_j = \\frac{b_j-\\sum_{k=j+1}^{n}u_{jk}x_k}{u_{jj}}, j = n, n-1, \\cdot\\cdot\\cdot, 1.\n",
        "\\end{align}\n",
        "\n",
        "Here we assumed that $det𝑈≠0$.\n"
      ]
    },
    {
      "cell_type": "code",
      "execution_count": 4,
      "metadata": {
        "deletable": false,
        "id": "r0-WCKM1OZKC"
      },
      "outputs": [],
      "source": [
        "import sys\n",
        "\n",
        "def get_result_gaussian_elimination(n, A):\n",
        "    # n is the number of unknowns.\n",
        "    # A is a numpy array representing the Augmented n x (n+1) matrix.\n",
        "  x = np.zeros(n)\n",
        "\n",
        "    # First check if the A is non-singular matrix.\n",
        "    # The determinant of a non-singular matrix will be non-zero.\n",
        "    # Return None if there is no unique solution to the linear equation.\n",
        "\n",
        "    # YOUR CODE HERE\n",
        "\n",
        "    # HINT:\n",
        "    # Apply Gauss Elimination followed by Back Substitution\n",
        "  a = A.copy()\n",
        "\n",
        "  for i in range(n):\n",
        "      if a[i][i] == 0.0:\n",
        "\n",
        "          for k in range(i + 1, n):\n",
        "              if a[k][i] != 0.0:\n",
        "                  a[[i, k]] = a[[k, i]]\n",
        "                  break\n",
        "\n",
        "          else:\n",
        "\n",
        "              return None\n",
        "\n",
        "\n",
        "      for j in range(i+1, n):\n",
        "          ratio = a[j][i]/a[i][i]\n",
        "          for k in range(n+1):\n",
        "              a[j][k] = a[j][k] - ratio * a[i][k]\n",
        "\n",
        "\n",
        "\n",
        "  x[n-1] = a[n-1][n]/a[n-1][n-1]\n",
        "  for i in range(n-2,-1,-1):\n",
        "      x[i] = a[i][n]\n",
        "      for j in range(i+1,n):\n",
        "          x[i] = x[i] - a[i][j]*x[j]\n",
        "      x[i] = x[i]/a[i][i]\n",
        "\n",
        "  return x"
      ]
    },
    {
      "cell_type": "code",
      "execution_count": 5,
      "metadata": {
        "colab": {
          "base_uri": "https://localhost:8080/"
        },
        "deletable": false,
        "editable": false,
        "id": "IjJuvkTBUifb",
        "outputId": "0e7f2c60-73d5-4e3f-8373-1b01c2a3182f"
      },
      "outputs": [
        {
          "name": "stdout",
          "output_type": "stream",
          "text": [
            "[11.000000 -2.500000 -6.000000]\n",
            "[11, -2.5, -6]\n",
            "None\n",
            "None\n"
          ]
        }
      ],
      "source": [
        "# Test case for the get_result_gaussian_elimination(n, A) function.\n",
        "\n",
        "data_n = 3\n",
        "data_A = np.array([[1, 2, 1, 0], [1, -2, 2, 4], [2, 12, -2, 4]])\n",
        "\n",
        "test = get_result_gaussian_elimination(data_n, data_A)\n",
        "result = [11, -2.5, -6]\n",
        "\n",
        "print(test)\n",
        "print(result)\n",
        "\n",
        "data_n = 3\n",
        "data_A = np.array([[1, 2, 1, 0], [1, -2, 2, 4], [2, 0, 3, 4]])\n",
        "\n",
        "test = get_result_gaussian_elimination(data_n, data_A)\n",
        "result = None\n",
        "\n",
        "print(test)\n",
        "print(result)"
      ]
    },
    {
      "cell_type": "markdown",
      "metadata": {
        "deletable": false,
        "editable": false,
        "id": "EDhqIUdo0InV"
      },
      "source": [
        "# Daily Evaluation - 4 Marks"
      ]
    },
    {
      "cell_type": "code",
      "execution_count": 6,
      "metadata": {
        "id": "7iyhyT-lu-iI"
      },
      "outputs": [],
      "source": [
        "import sys\n",
        "\n",
        "def get_result_gaussian_elimination(n, A):\n",
        "    # n is the number of unknowns.\n",
        "    # A is a numpy array representing the Augmented n x (n+1) matrix.\n",
        "  x = np.zeros(n)\n",
        "\n",
        "    # First check if the A is non-singular matrix.\n",
        "    # The determinant of a non-singular matrix will be non-zero.\n",
        "    # Return None if there is no unique solution to the linear equation.\n",
        "\n",
        "    # YOUR CODE HERE\n",
        "\n",
        "    # HINT:\n",
        "    # Apply Gauss Elimination followed by Back Substitution\n",
        "  a = A.copy()\n",
        "  b = np.zeros(A.shape)\n",
        "  for i in range(n):\n",
        "      if a[i][i] == 0.0:\n",
        "\n",
        "          for k in range(i + 1, n):\n",
        "              if a[k][i] != 0.0:\n",
        "                  a[[i, k]] = a[[k, i]]\n",
        "                  break\n",
        "\n",
        "          else:\n",
        "              return None\n",
        "\n",
        "\n",
        "      for j in range(i+1, n):\n",
        "          ratio = a[j][i]/a[i][i]\n",
        "          for k in range(n+1):\n",
        "              a[j][k] = a[j][k] - ratio * a[i][k]\n",
        "              b[j][k] = ratio\n",
        "\n",
        "  print(f\"Row Multipliers:\\n{b}\")\n",
        "  print(f\"Upper Triangular Matrix:\\n{a}\")\n",
        "  x[n-1] = a[n-1][n]/a[n-1][n-1]\n",
        "  for i in range(n-2,-1,-1):\n",
        "      x[i] = a[i][n]\n",
        "      for j in range(i+1,n):\n",
        "          x[i] = x[i] - a[i][j]*x[j]\n",
        "      x[i] = x[i]/a[i][i]\n",
        "\n",
        "  return x"
      ]
    },
    {
      "cell_type": "code",
      "execution_count": 7,
      "metadata": {
        "colab": {
          "base_uri": "https://localhost:8080/"
        },
        "id": "VaxQVt7P0MMg",
        "outputId": "d59bda6a-a9ee-4a85-a4d6-c38ff2ed8905"
      },
      "outputs": [
        {
          "name": "stdout",
          "output_type": "stream",
          "text": [
            "Augmented Matris:\n",
            "[[1.000000 2.000000 3.000000 4.000000 5.000000 30.000000]\n",
            " [-1.000000 2.000000 3.000000 4.000000 5.000000 18.000000]\n",
            " [-1.000000 4.000000 3.000000 4.000000 5.000000 24.000000]\n",
            " [-1.000000 4.000000 -3.000000 4.000000 5.000000 12.000000]\n",
            " [-1.000000 3.000000 0.000000 -2.000000 0.000000 6.000000]]\n",
            "Row Multipliers:\n",
            "[[0.000000 0.000000 0.000000 0.000000 0.000000 0.000000]\n",
            " [-1.000000 -1.000000 -1.000000 -1.000000 -1.000000 -1.000000]\n",
            " [1.500000 1.500000 1.500000 1.500000 1.500000 1.500000]\n",
            " [3.000000 3.000000 3.000000 3.000000 3.000000 3.000000]\n",
            " [-0.250000 -0.250000 -0.250000 -0.250000 -0.250000 -0.250000]]\n",
            "Upper Triangular Matrix:\n",
            "[[1.000000 2.000000 3.000000 4.000000 5.000000 30.000000]\n",
            " [0.000000 4.000000 6.000000 8.000000 10.000000 48.000000]\n",
            " [0.000000 0.000000 -3.000000 -4.000000 -5.000000 -18.000000]\n",
            " [0.000000 0.000000 0.000000 8.000000 10.000000 24.000000]\n",
            " [0.000000 0.000000 0.000000 0.000000 2.000000 6.000000]]\n",
            "Solutions:\n",
            "[6.000000 3.000000 2.000000 -0.750000 3.000000]\n"
          ]
        }
      ],
      "source": [
        "data_n = 5\n",
        "data_A = np.array([[1,2,3,4,5,30], [-1,2,3,4,5,18], [-1,4,3,4,5,24], [-1,4,-3,4,5,12], [-1,3,0,-2,0,6]])\n",
        "print(f\"Augmented Matris:\\n{data_A}\")\n",
        "val = get_result_gaussian_elimination(data_n, data_A)\n",
        "print(f\"Solutions:\\n{val}\")"
      ]
    }
  ],
  "metadata": {
    "colab": {
      "provenance": []
    },
    "kernelspec": {
      "display_name": "Python 3",
      "name": "python3"
    },
    "language_info": {
      "codemirror_mode": {
        "name": "ipython",
        "version": 3
      },
      "file_extension": ".py",
      "mimetype": "text/x-python",
      "name": "python",
      "nbconvert_exporter": "python",
      "pygments_lexer": "ipython3",
      "version": "3.13.2"
    }
  },
  "nbformat": 4,
  "nbformat_minor": 0
}
