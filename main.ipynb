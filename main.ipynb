{
 "cells": [
  {
   "cell_type": "code",
   "execution_count": null,
   "id": "b9c7e34d",
   "metadata": {},
   "outputs": [],
   "source": [
    "import matplotlib.pyplot as plt\n",
    "import numpy as np\n",
    "from numpy.polynomial import Polynomial\n",
    "np.set_printoptions(precision=6, formatter={'all': lambda x: f'{x:f}'})"
   ]
  },
  {
   "cell_type": "markdown",
   "id": "94468f5d",
   "metadata": {},
   "source": [
    "# **Polynomial**\n",
    "\n",
    "$$ y = 1 + 2x^2 + 5x^4 $$\n",
    "and get the value of $y$ using $x=6$ \n",
    "Manual Method"
   ]
  },
  {
   "cell_type": "code",
   "execution_count": null,
   "id": "709d6789",
   "metadata": {},
   "outputs": [],
   "source": [
    "coef = [1,0,2,0,5]\n",
    "degree = len(coef)-1\n",
    "\n",
    "x = 6.0\n",
    "\n",
    "def sum_all(x,coef):\n",
    "  sum, pow = 0,0\n",
    "  for i in coef:\n",
    "    sum+=(i)*(x**pow)\n",
    "    pow+=1\n",
    "  return sum\n",
    "p_x = sum_all(x,coef)\n",
    "print(p_x)"
   ]
  },
  {
   "cell_type": "markdown",
   "id": "db28461a",
   "metadata": {},
   "source": [
    "Just Polynomial import diye $P = Polynomial([a,b,c,d])$"
   ]
  },
  {
   "cell_type": "code",
   "execution_count": null,
   "id": "1c26f769",
   "metadata": {},
   "outputs": [],
   "source": [
    "coeff = np.array([1.0, 0.0, 2.0, 0.0, 5.0])\n",
    "x_arr = np.array([1, 2, 3, 4, 5])\n",
    "P = Polynomial(coeff)\n",
    "y_arr = P(x_arr)\n",
    "print(x_arr,y_arr)"
   ]
  },
  {
   "cell_type": "markdown",
   "id": "a4f4e680",
   "metadata": {},
   "source": [
    "# **Vandermod**\n",
    "Extract the $x$ and $y$ in matrix and get the values of the $a$ and make a polynomial using the values of $a$\n",
    "$$a=YX^{-1}$$\n",
    "where $\\mathbf{X} = $\n",
    "\n",
    "\\begin{bmatrix}\n",
    "x^0 & x^1 & x^2 & \\cdots & x^n\\\\\n",
    "x^0 & x^1 & x^2 & \\cdots & x^n\\\\\n",
    "\\vdots & \\vdots & \\vdots & \\ddots & \\vdots\\\\\n",
    "x^0 & x^1 & x^2 & \\cdots & x^n\\\\\n",
    "\\end{bmatrix}\n",
    "\n",
    "Inverse matrix: ``X_inv = np.linalg.pinv(x)``"
   ]
  },
  {
   "cell_type": "code",
   "execution_count": null,
   "id": "fcca5bad",
   "metadata": {},
   "outputs": [],
   "source": [
    "def vandermod_ploy(data_x, data_y):\n",
    "  nodes = len(data_x)\n",
    "  X = np.zeros((nodes,nodes))\n",
    "  for row in range(nodes): # Making X matrix x^0, x^1, x^2 ..\n",
    "    for col in range(nodes):\n",
    "      X[row][col] = data_x[row]**col\n",
    "\n",
    "  # Inverse X Matrix-------------------------------\n",
    "  X_inv = np.linalg.inv(X)\n",
    "  # -----------------------------------------------\n",
    "  a = np.dot(X_inv,data_y) # y_data*X_inv doesn't work\n",
    "\n",
    "  P = Polynomial(a)\n",
    "  \n",
    "  return P"
   ]
  },
  {
   "cell_type": "markdown",
   "id": "b9c28ed9",
   "metadata": {},
   "source": [
    "# **Graph**\n",
    "Steps:\n",
    "  1. data_x and data_y for the dots\n",
    "  2. Continuous x_arr from lowest to highest for the line ``np.linspace(low,high,count)``\n",
    "  3. Put the x_arr value in to the polynomial created to get y_arr\n",
    "  4. x_arr, y_arr for the line"
   ]
  },
  {
   "cell_type": "code",
   "execution_count": null,
   "id": "eda5f70c",
   "metadata": {},
   "outputs": [
    {
     "ename": "",
     "evalue": "",
     "output_type": "error",
     "traceback": [
      "\u001b[1;31mThe Kernel crashed while executing code in the current cell or a previous cell. \n",
      "\u001b[1;31mPlease review the code in the cell(s) to identify a possible cause of the failure. \n",
      "\u001b[1;31mClick <a href='https://aka.ms/vscodeJupyterKernelCrash'>here</a> for more info. \n",
      "\u001b[1;31mView Jupyter <a href='command:jupyter.viewOutput'>log</a> for further details."
     ]
    }
   ],
   "source": [
    "data_x = np.array([-3., -2., -1., 0., 1., 3.])\n",
    "data_y = np.array([-80., -13., 6., 1., 5., 16.])\n",
    "p = vandermod_ploy(data_x, data_y)\n",
    "print(p)\n",
    "\n",
    "x_arr = np.linspace(-3,3,100)\n",
    "y_arr = p(x_arr)\n",
    "\n",
    "plt.plot(x_arr,y_arr,'r', label=\"Dap\")\n",
    "plt.plot(data_x, data_y,'bo') # b = Blue; o = golla; * dile star hobe\n",
    "plt.legend()\n",
    "plt.show()"
   ]
  }
 ],
 "metadata": {
  "kernelspec": {
   "display_name": "Python 3",
   "language": "python",
   "name": "python3"
  },
  "language_info": {
   "codemirror_mode": {
    "name": "ipython",
    "version": 3
   },
   "file_extension": ".py",
   "mimetype": "text/x-python",
   "name": "python",
   "nbconvert_exporter": "python",
   "pygments_lexer": "ipython3",
   "version": "3.13.2"
  }
 },
 "nbformat": 4,
 "nbformat_minor": 5
}
